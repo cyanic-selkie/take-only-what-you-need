{
 "cells": [
  {
   "cell_type": "code",
   "execution_count": null,
   "id": "0516219a",
   "metadata": {},
   "outputs": [],
   "source": [
    "import simdjson\n",
    "import itertools\n",
    "import numpy as np\n",
    "from math import ceil\n",
    "from sklearn.preprocessing import MultiLabelBinarizer\n",
    "from iterstrat.ml_stratifiers import MultilabelStratifiedShuffleSplit\n",
    "import string\n",
    "import fasttext as ft\n",
    "import fasttext.util as ft_util\n",
    "from sklearn.metrics import f1_score, recall_score, precision_score\n",
    "from sklearn.multioutput import MultiOutputClassifier\n",
    "from sklearn.svm import SVC, LinearSVC\n",
    "from sklearn.linear_model import LogisticRegression\n",
    "from sklearn.preprocessing import StandardScaler\n",
    "from sklearn.feature_extraction.text import TfidfVectorizer\n",
    "from sklearn.decomposition import TruncatedSVD\n",
    "import multiprocessing\n",
    "import time"
   ]
  },
  {
   "cell_type": "code",
   "execution_count": null,
   "id": "624c17b9",
   "metadata": {},
   "outputs": [],
   "source": [
    "with open(\"data/dataset_100.json\") as f:\n",
    "    dataset = simdjson.load(f)"
   ]
  },
  {
   "cell_type": "code",
   "execution_count": null,
   "id": "c67f0c56",
   "metadata": {},
   "outputs": [],
   "source": [
    "X, Y = [], []\n",
    "\n",
    "for key, group in itertools.groupby(dataset, lambda x: x[\"document_id\"]):\n",
    "    X.append(key)\n",
    "    Y.append(next(group)[\"labels\"])\n",
    "\n",
    "mlb = MultiLabelBinarizer().fit(Y)\n",
    "X = np.array(X)\n",
    "Y = mlb.transform(Y)\n",
    "\n",
    "classes = mlb.classes_"
   ]
  },
  {
   "cell_type": "code",
   "execution_count": null,
   "id": "42598d0c",
   "metadata": {},
   "outputs": [],
   "source": [
    "msss = MultilabelStratifiedShuffleSplit(n_splits=1, test_size=0.3)\n",
    "\n",
    "for train_index, test_index in msss.split(X, Y):\n",
    "    X_train, X_test = X[train_index], X[test_index]\n",
    "    Y_train, Y_test = Y[train_index], Y[test_index]\n",
    "    \n",
    "    break\n",
    "    \n",
    "useless = set(itertools.chain(*mlb.inverse_transform(Y_test))) ^ set(itertools.chain(*mlb.inverse_transform(Y_train)))\n",
    "\n",
    "print(len(useless))"
   ]
  },
  {
   "cell_type": "code",
   "execution_count": null,
   "id": "52b46ea0",
   "metadata": {},
   "outputs": [],
   "source": [
    "dims = 300\n",
    "ft_model = ft.load_model('cc.hr.300.bin')\n",
    "#ft_model = ft_util.reduce_model(ft_model, dims)"
   ]
  },
  {
   "cell_type": "code",
   "execution_count": null,
   "id": "8b60d3ca",
   "metadata": {},
   "outputs": [],
   "source": [
    "def generate_embeddings(k):\n",
    "    embeddings = {}\n",
    "\n",
    "    for key, group in itertools.groupby(dataset, lambda x: x[\"document_id\"]):\n",
    "        group = list(group)\n",
    "        \n",
    "        sentences = []\n",
    "        for sentence in group:\n",
    "            if len(sentences) == k:\n",
    "                break\n",
    "                \n",
    "            filtered_indices = [i for i, lemma in enumerate(sentence[\"lemmas\"]) if not all(x.isdigit() or x in string.punctuation for x in lemma)]\n",
    "            filtered_tokens = [sentence[\"tokens\"][i] for i in filtered_indices]\n",
    "            \n",
    "            if len(filtered_tokens) < 10:\n",
    "                continue\n",
    "\n",
    "            sentences.append(filtered_tokens)\n",
    "\n",
    "        embeddings[key] = [ft_model.get_sentence_vector(\" \".join(sentence)) for sentence in sentences]\n",
    "\n",
    "        for _ in range(k - len(embeddings[key])):\n",
    "            embeddings[key].append(np.zeros((dims,)))\n",
    "            \n",
    "        embeddings[key] = np.stack(embeddings[key]).flatten()\n",
    "\n",
    "    return embeddings"
   ]
  },
  {
   "cell_type": "code",
   "execution_count": null,
   "id": "332aa83b",
   "metadata": {},
   "outputs": [],
   "source": [
    "def train_classifier(i):\n",
    "    try:\n",
    "        clf = SVC(class_weight='balanced').fit(X_train_features, Y_train[:, i])\n",
    "        return clf.predict(X_test_features)\n",
    "    except ValueError:\n",
    "        return np.zeros((Y_test.shape[0],))"
   ]
  },
  {
   "cell_type": "code",
   "execution_count": null,
   "id": "6f1f49a2",
   "metadata": {},
   "outputs": [],
   "source": [
    "pool = multiprocessing.Pool(60)\n",
    "\n",
    "scores = []\n",
    "for i in range(1, 5):\n",
    "    embeddings = generate_embeddings(i)\n",
    "    X_train_features = np.stack([embeddings[x] for x in X_train])\n",
    "    X_test_features = np.stack([embeddings[x] for x in X_test])\n",
    "\n",
    "    scaler = StandardScaler().fit(X_train_features)\n",
    "\n",
    "    X_train_features = scaler.transform(X_train_features)\n",
    "    X_test_features = scaler.transform(X_test_features)\n",
    "\n",
    "    start = time.perf_counter()\n",
    "    Y_test_pred = np.stack(pool.map(train_classifier, range(Y_test.shape[1])), axis=-1)\n",
    "    \n",
    "    f1_macro = f1_score(Y_test, Y_test_pred, average='macro', zero_division=0)\n",
    "    f1_micro = f1_score(Y_test, Y_test_pred, average='micro', zero_division=0)\n",
    "\n",
    "    precision_macro = precision_score(Y_test, Y_test_pred, average='macro', zero_division=0)\n",
    "    precision_micro = precision_score(Y_test, Y_test_pred, average='micro', zero_division=0)\n",
    "\n",
    "    recall_macro = recall_score(Y_test, Y_test_pred, average='macro', zero_division=0)\n",
    "    recall_micro = recall_score(Y_test, Y_test_pred, average='micro', zero_division=0)\n",
    "\n",
    "    scores.append((f1_macro, f1_micro, precision_macro, precision_micro, recall_macro, recall_micro, time.perf_counter() - start))\n",
    "    \n",
    "    print(scores[-1])"
   ]
  },
  {
   "cell_type": "code",
   "execution_count": null,
   "id": "b86bc0b5",
   "metadata": {},
   "outputs": [],
   "source": []
  }
 ],
 "metadata": {
  "kernelspec": {
   "display_name": "Python 3 (ipykernel)",
   "language": "python",
   "name": "python3"
  },
  "language_info": {
   "codemirror_mode": {
    "name": "ipython",
    "version": 3
   },
   "file_extension": ".py",
   "mimetype": "text/x-python",
   "name": "python",
   "nbconvert_exporter": "python",
   "pygments_lexer": "ipython3",
   "version": "3.8.12"
  }
 },
 "nbformat": 4,
 "nbformat_minor": 5
}
